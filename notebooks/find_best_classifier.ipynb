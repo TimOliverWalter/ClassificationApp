{
 "cells": [
  {
   "cell_type": "code",
   "execution_count": 1,
   "id": "c1e6300a-13f9-451c-bab0-fe98c24daede",
   "metadata": {},
   "outputs": [],
   "source": [
    "import pandas as pd\n",
    "\n",
    "from sklearn.svm import SVC\n",
    "from sklearn.tree import DecisionTreeClassifier\n",
    "from sklearn.neighbors import KNeighborsClassifier\n",
    "from sklearn.linear_model import LogisticRegression\n",
    "from sklearn.ensemble import VotingClassifier, RandomForestClassifier\n",
    "from sklearn.neural_network import MLPClassifier\n",
    "\n",
    "\n",
    "from sklearn.model_selection import train_test_split\n",
    "from sklearn.model_selection import GridSearchCV\n",
    "from sklearn.preprocessing import StandardScaler\n",
    "\n",
    "from sklearn.metrics import (\n",
    "    confusion_matrix,\n",
    "    f1_score,\n",
    "    precision_score,\n",
    "    recall_score\n",
    ")"
   ]
  },
  {
   "cell_type": "code",
   "execution_count": 2,
   "id": "3d63f64f-16a8-4077-9a8b-8d1d2ae88ed4",
   "metadata": {},
   "outputs": [
    {
     "data": {
      "text/html": [
       "<div>\n",
       "<style scoped>\n",
       "    .dataframe tbody tr th:only-of-type {\n",
       "        vertical-align: middle;\n",
       "    }\n",
       "\n",
       "    .dataframe tbody tr th {\n",
       "        vertical-align: top;\n",
       "    }\n",
       "\n",
       "    .dataframe thead th {\n",
       "        text-align: right;\n",
       "    }\n",
       "</style>\n",
       "<table border=\"1\" class=\"dataframe\">\n",
       "  <thead>\n",
       "    <tr style=\"text-align: right;\">\n",
       "      <th></th>\n",
       "      <th>CreditScore</th>\n",
       "      <th>Geography</th>\n",
       "      <th>Gender</th>\n",
       "      <th>Age</th>\n",
       "      <th>Tenure</th>\n",
       "      <th>Balance</th>\n",
       "      <th>NumOfProducts</th>\n",
       "      <th>HasCrCard</th>\n",
       "      <th>IsActiveMember</th>\n",
       "      <th>EstimatedSalary</th>\n",
       "      <th>Exited</th>\n",
       "    </tr>\n",
       "  </thead>\n",
       "  <tbody>\n",
       "    <tr>\n",
       "      <th>0</th>\n",
       "      <td>619</td>\n",
       "      <td>1</td>\n",
       "      <td>0</td>\n",
       "      <td>42</td>\n",
       "      <td>2</td>\n",
       "      <td>0.00</td>\n",
       "      <td>1</td>\n",
       "      <td>1</td>\n",
       "      <td>1</td>\n",
       "      <td>101348.88</td>\n",
       "      <td>1</td>\n",
       "    </tr>\n",
       "    <tr>\n",
       "      <th>1</th>\n",
       "      <td>608</td>\n",
       "      <td>2</td>\n",
       "      <td>0</td>\n",
       "      <td>41</td>\n",
       "      <td>1</td>\n",
       "      <td>83807.86</td>\n",
       "      <td>1</td>\n",
       "      <td>0</td>\n",
       "      <td>1</td>\n",
       "      <td>112542.58</td>\n",
       "      <td>0</td>\n",
       "    </tr>\n",
       "    <tr>\n",
       "      <th>2</th>\n",
       "      <td>502</td>\n",
       "      <td>1</td>\n",
       "      <td>0</td>\n",
       "      <td>42</td>\n",
       "      <td>8</td>\n",
       "      <td>159660.80</td>\n",
       "      <td>3</td>\n",
       "      <td>1</td>\n",
       "      <td>0</td>\n",
       "      <td>113931.57</td>\n",
       "      <td>1</td>\n",
       "    </tr>\n",
       "    <tr>\n",
       "      <th>3</th>\n",
       "      <td>699</td>\n",
       "      <td>1</td>\n",
       "      <td>0</td>\n",
       "      <td>39</td>\n",
       "      <td>1</td>\n",
       "      <td>0.00</td>\n",
       "      <td>2</td>\n",
       "      <td>0</td>\n",
       "      <td>0</td>\n",
       "      <td>93826.63</td>\n",
       "      <td>0</td>\n",
       "    </tr>\n",
       "    <tr>\n",
       "      <th>4</th>\n",
       "      <td>850</td>\n",
       "      <td>2</td>\n",
       "      <td>0</td>\n",
       "      <td>43</td>\n",
       "      <td>2</td>\n",
       "      <td>125510.82</td>\n",
       "      <td>1</td>\n",
       "      <td>1</td>\n",
       "      <td>1</td>\n",
       "      <td>79084.10</td>\n",
       "      <td>0</td>\n",
       "    </tr>\n",
       "  </tbody>\n",
       "</table>\n",
       "</div>"
      ],
      "text/plain": [
       "   CreditScore  Geography  Gender  Age  Tenure    Balance  NumOfProducts  \\\n",
       "0          619          1       0   42       2       0.00              1   \n",
       "1          608          2       0   41       1   83807.86              1   \n",
       "2          502          1       0   42       8  159660.80              3   \n",
       "3          699          1       0   39       1       0.00              2   \n",
       "4          850          2       0   43       2  125510.82              1   \n",
       "\n",
       "   HasCrCard  IsActiveMember  EstimatedSalary  Exited  \n",
       "0          1               1        101348.88       1  \n",
       "1          0               1        112542.58       0  \n",
       "2          1               0        113931.57       1  \n",
       "3          0               0         93826.63       0  \n",
       "4          1               1         79084.10       0  "
      ]
     },
     "execution_count": 2,
     "metadata": {},
     "output_type": "execute_result"
    }
   ],
   "source": [
    "df = pd.read_csv(\"../data/churn_modelling.csv\")\n",
    "df = df.drop([\"RowNumber\", \"CustomerId\", \"Surname\"], axis=1)\n",
    "df = df.replace(\n",
    "    {\"Geography\" : {\"Germany\" : 0,\n",
    "                    \"France\" : 1,\n",
    "                    \"Spain\" : 2 },\n",
    "     \"Gender\" : {\"Female\" : 0,\n",
    "                 \"Male\" : 1}\n",
    "    }\n",
    ")\n",
    "df.head()"
   ]
  },
  {
   "cell_type": "code",
   "execution_count": 3,
   "id": "22bd35d9-15d8-411d-b3df-f2f442de4698",
   "metadata": {},
   "outputs": [
    {
     "data": {
      "text/html": [
       "<div>\n",
       "<style scoped>\n",
       "    .dataframe tbody tr th:only-of-type {\n",
       "        vertical-align: middle;\n",
       "    }\n",
       "\n",
       "    .dataframe tbody tr th {\n",
       "        vertical-align: top;\n",
       "    }\n",
       "\n",
       "    .dataframe thead th {\n",
       "        text-align: right;\n",
       "    }\n",
       "</style>\n",
       "<table border=\"1\" class=\"dataframe\">\n",
       "  <thead>\n",
       "    <tr style=\"text-align: right;\">\n",
       "      <th></th>\n",
       "      <th>CreditScore</th>\n",
       "      <th>Geography</th>\n",
       "      <th>Gender</th>\n",
       "      <th>Age</th>\n",
       "      <th>Tenure</th>\n",
       "      <th>Balance</th>\n",
       "      <th>NumOfProducts</th>\n",
       "      <th>HasCrCard</th>\n",
       "      <th>IsActiveMember</th>\n",
       "      <th>EstimatedSalary</th>\n",
       "    </tr>\n",
       "  </thead>\n",
       "  <tbody>\n",
       "    <tr>\n",
       "      <th>8783</th>\n",
       "      <td>782</td>\n",
       "      <td>1</td>\n",
       "      <td>1</td>\n",
       "      <td>34</td>\n",
       "      <td>9</td>\n",
       "      <td>0.0</td>\n",
       "      <td>1</td>\n",
       "      <td>1</td>\n",
       "      <td>0</td>\n",
       "      <td>183021.06</td>\n",
       "    </tr>\n",
       "    <tr>\n",
       "      <th>5663</th>\n",
       "      <td>850</td>\n",
       "      <td>1</td>\n",
       "      <td>0</td>\n",
       "      <td>38</td>\n",
       "      <td>2</td>\n",
       "      <td>0.0</td>\n",
       "      <td>2</td>\n",
       "      <td>1</td>\n",
       "      <td>0</td>\n",
       "      <td>9015.07</td>\n",
       "    </tr>\n",
       "    <tr>\n",
       "      <th>5591</th>\n",
       "      <td>539</td>\n",
       "      <td>1</td>\n",
       "      <td>1</td>\n",
       "      <td>38</td>\n",
       "      <td>5</td>\n",
       "      <td>0.0</td>\n",
       "      <td>2</td>\n",
       "      <td>1</td>\n",
       "      <td>0</td>\n",
       "      <td>47388.41</td>\n",
       "    </tr>\n",
       "    <tr>\n",
       "      <th>5827</th>\n",
       "      <td>653</td>\n",
       "      <td>2</td>\n",
       "      <td>1</td>\n",
       "      <td>35</td>\n",
       "      <td>9</td>\n",
       "      <td>0.0</td>\n",
       "      <td>2</td>\n",
       "      <td>1</td>\n",
       "      <td>1</td>\n",
       "      <td>45956.05</td>\n",
       "    </tr>\n",
       "    <tr>\n",
       "      <th>1209</th>\n",
       "      <td>850</td>\n",
       "      <td>1</td>\n",
       "      <td>0</td>\n",
       "      <td>32</td>\n",
       "      <td>7</td>\n",
       "      <td>0.0</td>\n",
       "      <td>2</td>\n",
       "      <td>0</td>\n",
       "      <td>0</td>\n",
       "      <td>155227.00</td>\n",
       "    </tr>\n",
       "  </tbody>\n",
       "</table>\n",
       "</div>"
      ],
      "text/plain": [
       "      CreditScore  Geography  Gender  Age  Tenure  Balance  NumOfProducts  \\\n",
       "8783          782          1       1   34       9      0.0              1   \n",
       "5663          850          1       0   38       2      0.0              2   \n",
       "5591          539          1       1   38       5      0.0              2   \n",
       "5827          653          2       1   35       9      0.0              2   \n",
       "1209          850          1       0   32       7      0.0              2   \n",
       "\n",
       "      HasCrCard  IsActiveMember  EstimatedSalary  \n",
       "8783          1               0        183021.06  \n",
       "5663          1               0          9015.07  \n",
       "5591          1               0         47388.41  \n",
       "5827          1               1         45956.05  \n",
       "1209          0               0        155227.00  "
      ]
     },
     "execution_count": 3,
     "metadata": {},
     "output_type": "execute_result"
    }
   ],
   "source": [
    "X = df.drop([\"Exited\"], axis=1)\n",
    "y = df[\"Exited\"]\n",
    "X_train, X_test, y_train, y_test = train_test_split(X,y,test_size=0.3)\n",
    "\n",
    "X_test.head()"
   ]
  },
  {
   "cell_type": "code",
   "execution_count": 4,
   "id": "ca54226a-3520-42bf-872b-0d2ea6780d61",
   "metadata": {},
   "outputs": [],
   "source": [
    "## Support Vector Classifier"
   ]
  },
  {
   "cell_type": "code",
   "execution_count": 5,
   "id": "19eeb2cf-c75e-4562-bf36-c2812dfe098a",
   "metadata": {},
   "outputs": [],
   "source": [
    "svc_clf = SVC(kernel=\"sigmoid\")\n",
    "svc_clf.fit(X_train,y_train)\n",
    "y_pred_clf= svc_clf.predict(X_test)"
   ]
  },
  {
   "cell_type": "code",
   "execution_count": 6,
   "id": "8edae283-256b-4c9c-a339-27846d5e63eb",
   "metadata": {},
   "outputs": [
    {
     "name": "stdout",
     "output_type": "stream",
     "text": [
      "[[1946  461]\n",
      " [ 458  135]]\n",
      "F1=0.2270815811606392\n",
      "Precision=0.22651006711409397\n",
      "Recall=0.22765598650927488\n"
     ]
    }
   ],
   "source": [
    "print(confusion_matrix(y_test, y_pred_clf))\n",
    "print(\"F1=\"+str(f1_score(y_test, y_pred_clf)))\n",
    "print(\"Precision=\"+str(precision_score(y_test, y_pred_clf)))\n",
    "print(\"Recall=\"+str(recall_score(y_test, y_pred_clf)))"
   ]
  },
  {
   "cell_type": "code",
   "execution_count": 7,
   "id": "4369cce7-9198-4135-816e-3e265f9a37c0",
   "metadata": {},
   "outputs": [],
   "source": [
    "## Decision Tree Classifier"
   ]
  },
  {
   "cell_type": "code",
   "execution_count": 8,
   "id": "8c9f10a6-f6e1-45b7-9c0c-7681911c0396",
   "metadata": {},
   "outputs": [],
   "source": [
    "dtc = DecisionTreeClassifier(max_depth=2)\n",
    "dtc.fit(X_train,y_train)\n",
    "y_pred_dtc = dtc.predict(X_test)"
   ]
  },
  {
   "cell_type": "code",
   "execution_count": 9,
   "id": "8663dbe6-ebc9-492f-86b3-06e31cfa174d",
   "metadata": {},
   "outputs": [
    {
     "name": "stdout",
     "output_type": "stream",
     "text": [
      "[[2228  179]\n",
      " [ 335  258]]\n",
      "F1=0.5009708737864077\n",
      "Precision=0.5903890160183066\n",
      "Recall=0.4350758853288364\n"
     ]
    }
   ],
   "source": [
    "print(confusion_matrix(y_test, y_pred_dtc))\n",
    "print(\"F1=\"+str(f1_score(y_test, y_pred_dtc)))\n",
    "print(\"Precision=\"+str(precision_score(y_test, y_pred_dtc)))\n",
    "print(\"Recall=\"+str(recall_score(y_test, y_pred_dtc)))"
   ]
  },
  {
   "cell_type": "code",
   "execution_count": 10,
   "id": "fe508894-13ad-4ee9-a38e-735f9bb1ebee",
   "metadata": {},
   "outputs": [],
   "source": [
    "## KNeighbors Classifier"
   ]
  },
  {
   "cell_type": "code",
   "execution_count": 11,
   "id": "b7ee679e-5f38-4b7d-94f2-1f7f4a1171c1",
   "metadata": {},
   "outputs": [],
   "source": [
    "neigh = KNeighborsClassifier(n_neighbors=5)\n",
    "neigh.fit(X_train,y_train)\n",
    "y_pred_neigh = neigh.predict(X_test)"
   ]
  },
  {
   "cell_type": "code",
   "execution_count": 12,
   "id": "e1a08206-de7c-4c68-97f0-9ab989014a58",
   "metadata": {},
   "outputs": [
    {
     "name": "stdout",
     "output_type": "stream",
     "text": [
      "[[2265  142]\n",
      " [ 535   58]]\n",
      "F1=0.14627994955863807\n",
      "Precision=0.29\n",
      "Recall=0.09780775716694773\n"
     ]
    }
   ],
   "source": [
    "print(confusion_matrix(y_test, y_pred_neigh))\n",
    "print(\"F1=\"+str(f1_score(y_test, y_pred_neigh)))\n",
    "print(\"Precision=\"+str(precision_score(y_test, y_pred_neigh)))\n",
    "print(\"Recall=\"+str(recall_score(y_test, y_pred_neigh)))"
   ]
  },
  {
   "cell_type": "code",
   "execution_count": 13,
   "id": "bf1501ae-13eb-4457-8f60-250ffd78a481",
   "metadata": {},
   "outputs": [],
   "source": [
    "## Logistic Regression"
   ]
  },
  {
   "cell_type": "code",
   "execution_count": 14,
   "id": "a3573ecb-0813-412c-9dda-6752f227c747",
   "metadata": {},
   "outputs": [],
   "source": [
    "lgc = LogisticRegression()\n",
    "lgc.fit(X_train,y_train)\n",
    "y_pred_lgc = lgc.predict(X_test)"
   ]
  },
  {
   "cell_type": "code",
   "execution_count": 15,
   "id": "383627d0-d64d-42a4-8e0c-00c70d78b8ad",
   "metadata": {},
   "outputs": [
    {
     "name": "stdout",
     "output_type": "stream",
     "text": [
      "[[2338   69]\n",
      " [ 558   35]]\n",
      "F1=0.10043041606886656\n",
      "Precision=0.33653846153846156\n",
      "Recall=0.05902192242833052\n"
     ]
    }
   ],
   "source": [
    "print(confusion_matrix(y_test, y_pred_lgc))\n",
    "print(\"F1=\"+str(f1_score(y_test, y_pred_lgc)))\n",
    "print(\"Precision=\"+str(precision_score(y_test, y_pred_lgc)))\n",
    "print(\"Recall=\"+str(recall_score(y_test, y_pred_lgc)))"
   ]
  },
  {
   "cell_type": "code",
   "execution_count": 16,
   "id": "56fb37bb-475e-43c9-baf6-ab0f0867d5a0",
   "metadata": {},
   "outputs": [],
   "source": [
    "voting_clf = VotingClassifier(estimators=[(\"svc\", svc_clf), (\"dtc\", dtc), (\"lgc\", lgc)])\n",
    "voting_clf.fit(X_train,y_train)\n",
    "y_pred_voting = voting_clf.predict(X_test)"
   ]
  },
  {
   "cell_type": "code",
   "execution_count": 17,
   "id": "6a6afcb0-4350-4966-bf39-6d5e5e2d587b",
   "metadata": {},
   "outputs": [
    {
     "name": "stdout",
     "output_type": "stream",
     "text": [
      "[[2355   52]\n",
      " [ 508   85]]\n",
      "F1=0.23287671232876714\n",
      "Precision=0.6204379562043796\n",
      "Recall=0.1433389544688027\n"
     ]
    }
   ],
   "source": [
    "print(confusion_matrix(y_test, y_pred_voting))\n",
    "print(\"F1=\"+str(f1_score(y_test, y_pred_voting)))\n",
    "print(\"Precision=\"+str(precision_score(y_test, y_pred_voting)))\n",
    "print(\"Recall=\"+str(recall_score(y_test, y_pred_voting)))"
   ]
  },
  {
   "cell_type": "code",
   "execution_count": 18,
   "id": "baa9fb3e-13a9-4472-b94c-d73755b05e93",
   "metadata": {},
   "outputs": [],
   "source": [
    "## Random Forest Classifier"
   ]
  },
  {
   "cell_type": "code",
   "execution_count": 19,
   "id": "cd437cc9-d2e8-4669-a3ad-f6d57cea4cfb",
   "metadata": {},
   "outputs": [],
   "source": [
    "rfc = RandomForestClassifier(random_state=0)\n",
    "rfc.fit(X_train,y_train)\n",
    "y_pred_rfc = rfc.predict(X_test)"
   ]
  },
  {
   "cell_type": "code",
   "execution_count": 20,
   "id": "e15f282e-85cb-48ee-b9c9-6cfa6eca7cbb",
   "metadata": {},
   "outputs": [
    {
     "name": "stdout",
     "output_type": "stream",
     "text": [
      "[[2321   86]\n",
      " [ 304  289]]\n",
      "F1=0.597107438016529\n",
      "Precision=0.7706666666666667\n",
      "Recall=0.4873524451939292\n"
     ]
    }
   ],
   "source": [
    "print(confusion_matrix(y_test, y_pred_rfc))\n",
    "print(\"F1=\"+str(f1_score(y_test, y_pred_rfc)))\n",
    "print(\"Precision=\"+str(precision_score(y_test, y_pred_rfc)))\n",
    "print(\"Recall=\"+str(recall_score(y_test, y_pred_rfc)))"
   ]
  },
  {
   "cell_type": "code",
   "execution_count": 21,
   "id": "225641a1-2d67-435c-be13-8defbe80e2e7",
   "metadata": {},
   "outputs": [],
   "source": [
    "## Multilayer Perceptron"
   ]
  },
  {
   "cell_type": "code",
   "execution_count": 22,
   "id": "2ffec538-ac5b-40b0-a7ea-ef09ab0e217d",
   "metadata": {},
   "outputs": [],
   "source": [
    "sc=StandardScaler()\n",
    "scaler = sc.fit(X_train)\n",
    "X_train_scaled = scaler.transform(X_train)\n",
    "X_test_scaled = scaler.transform(X_test)"
   ]
  },
  {
   "cell_type": "code",
   "execution_count": 23,
   "id": "a34bd56f-9b7a-49eb-ade8-db8e979f9705",
   "metadata": {},
   "outputs": [],
   "source": [
    "mlp_tuning = MLPClassifier()\n",
    "parameter_space = { \n",
    "    \"hidden_layer_sizes\": [(150,100,50), (120,80,40), (100,50,30)],\n",
    "    \"max_iter\": [100, 150, 200, 250, 300],\n",
    "    \"activation\": [\"tanh\", \"relu\"], \n",
    "    \"solver\": [\"sgd\", \"adam\"], \n",
    "    \"alpha\": [0.0001, 0.05], \n",
    "    \"learning_rate\": [\"constant\", \"invscaling\", \"adaptive\"], \n",
    "}\n",
    "#clf = GridSearchCV (mlp_tuning, parameter_space, n_jobs=-1, cv=5) \n",
    "#clf.fit(X_train_scaled,y_train)\n",
    "#print(clf.best_params_)"
   ]
  },
  {
   "cell_type": "code",
   "execution_count": 24,
   "id": "de252e22-fe87-4226-9647-8cbe3e602d3f",
   "metadata": {},
   "outputs": [],
   "source": [
    "mlp = MLPClassifier(max_iter=300, activation=\"tanh\", alpha=0.05, hidden_layer_sizes=(20,), learning_rate=\"invscaling\", solver=\"adam\")\n",
    "mlp.fit(X_train,y_train)\n",
    "y_pred_mlp = mlp.predict(X_test_scaled)"
   ]
  },
  {
   "cell_type": "code",
   "execution_count": 25,
   "id": "85cc02db-31ce-458d-a572-17a9e1bf3798",
   "metadata": {},
   "outputs": [
    {
     "name": "stdout",
     "output_type": "stream",
     "text": [
      "[[2078  329]\n",
      " [ 530   63]]\n",
      "F1=0.12791878172588833\n",
      "Precision=0.16071428571428573\n",
      "Recall=0.10623946037099494\n"
     ]
    }
   ],
   "source": [
    "print(confusion_matrix(y_test, y_pred_mlp))\n",
    "print(\"F1=\"+str(f1_score(y_test, y_pred_mlp)))\n",
    "print(\"Precision=\"+str(precision_score(y_test, y_pred_mlp)))\n",
    "print(\"Recall=\"+str(recall_score(y_test, y_pred_mlp)))"
   ]
  },
  {
   "cell_type": "code",
   "execution_count": null,
   "id": "66ea5bb9-3a5b-4070-8389-d7c7543c9bac",
   "metadata": {},
   "outputs": [],
   "source": []
  }
 ],
 "metadata": {
  "kernelspec": {
   "display_name": "Python 3 (ipykernel)",
   "language": "python",
   "name": "python3"
  },
  "language_info": {
   "codemirror_mode": {
    "name": "ipython",
    "version": 3
   },
   "file_extension": ".py",
   "mimetype": "text/x-python",
   "name": "python",
   "nbconvert_exporter": "python",
   "pygments_lexer": "ipython3",
   "version": "3.9.5"
  }
 },
 "nbformat": 4,
 "nbformat_minor": 5
}
