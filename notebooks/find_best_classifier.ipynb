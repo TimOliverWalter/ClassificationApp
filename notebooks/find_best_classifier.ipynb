{
 "cells": [
  {
   "cell_type": "code",
   "execution_count": 1,
   "id": "c1e6300a-13f9-451c-bab0-fe98c24daede",
   "metadata": {},
   "outputs": [],
   "source": [
    "import pandas as pd\n",
    "\n",
    "from sklearn.svm import SVC\n",
    "from sklearn.tree import DecisionTreeClassifier\n",
    "from sklearn.neighbors import KNeighborsClassifier\n",
    "from sklearn.linear_model import LogisticRegression\n",
    "from sklearn.ensemble import VotingClassifier, RandomForestClassifier\n",
    "from sklearn.neural_network import MLPClassifier\n",
    "\n",
    "\n",
    "from sklearn.model_selection import train_test_split\n",
    "from sklearn.model_selection import GridSearchCV\n",
    "from sklearn.preprocessing import StandardScaler\n",
    "\n",
    "from sklearn.metrics import (\n",
    "    confusion_matrix,\n",
    "    f1_score,\n",
    "    precision_score,\n",
    "    recall_score\n",
    ")"
   ]
  },
  {
   "cell_type": "code",
   "execution_count": 2,
   "id": "3d63f64f-16a8-4077-9a8b-8d1d2ae88ed4",
   "metadata": {},
   "outputs": [
    {
     "data": {
      "text/html": [
       "<div>\n",
       "<style scoped>\n",
       "    .dataframe tbody tr th:only-of-type {\n",
       "        vertical-align: middle;\n",
       "    }\n",
       "\n",
       "    .dataframe tbody tr th {\n",
       "        vertical-align: top;\n",
       "    }\n",
       "\n",
       "    .dataframe thead th {\n",
       "        text-align: right;\n",
       "    }\n",
       "</style>\n",
       "<table border=\"1\" class=\"dataframe\">\n",
       "  <thead>\n",
       "    <tr style=\"text-align: right;\">\n",
       "      <th></th>\n",
       "      <th>CreditScore</th>\n",
       "      <th>Geography</th>\n",
       "      <th>Gender</th>\n",
       "      <th>Age</th>\n",
       "      <th>Tenure</th>\n",
       "      <th>Balance</th>\n",
       "      <th>NumOfProducts</th>\n",
       "      <th>HasCrCard</th>\n",
       "      <th>IsActiveMember</th>\n",
       "      <th>EstimatedSalary</th>\n",
       "      <th>Exited</th>\n",
       "    </tr>\n",
       "  </thead>\n",
       "  <tbody>\n",
       "    <tr>\n",
       "      <th>0</th>\n",
       "      <td>619</td>\n",
       "      <td>1</td>\n",
       "      <td>0</td>\n",
       "      <td>42</td>\n",
       "      <td>2</td>\n",
       "      <td>0.00</td>\n",
       "      <td>1</td>\n",
       "      <td>1</td>\n",
       "      <td>1</td>\n",
       "      <td>101348.88</td>\n",
       "      <td>1</td>\n",
       "    </tr>\n",
       "    <tr>\n",
       "      <th>1</th>\n",
       "      <td>608</td>\n",
       "      <td>2</td>\n",
       "      <td>0</td>\n",
       "      <td>41</td>\n",
       "      <td>1</td>\n",
       "      <td>83807.86</td>\n",
       "      <td>1</td>\n",
       "      <td>0</td>\n",
       "      <td>1</td>\n",
       "      <td>112542.58</td>\n",
       "      <td>0</td>\n",
       "    </tr>\n",
       "    <tr>\n",
       "      <th>2</th>\n",
       "      <td>502</td>\n",
       "      <td>1</td>\n",
       "      <td>0</td>\n",
       "      <td>42</td>\n",
       "      <td>8</td>\n",
       "      <td>159660.80</td>\n",
       "      <td>3</td>\n",
       "      <td>1</td>\n",
       "      <td>0</td>\n",
       "      <td>113931.57</td>\n",
       "      <td>1</td>\n",
       "    </tr>\n",
       "    <tr>\n",
       "      <th>3</th>\n",
       "      <td>699</td>\n",
       "      <td>1</td>\n",
       "      <td>0</td>\n",
       "      <td>39</td>\n",
       "      <td>1</td>\n",
       "      <td>0.00</td>\n",
       "      <td>2</td>\n",
       "      <td>0</td>\n",
       "      <td>0</td>\n",
       "      <td>93826.63</td>\n",
       "      <td>0</td>\n",
       "    </tr>\n",
       "    <tr>\n",
       "      <th>4</th>\n",
       "      <td>850</td>\n",
       "      <td>2</td>\n",
       "      <td>0</td>\n",
       "      <td>43</td>\n",
       "      <td>2</td>\n",
       "      <td>125510.82</td>\n",
       "      <td>1</td>\n",
       "      <td>1</td>\n",
       "      <td>1</td>\n",
       "      <td>79084.10</td>\n",
       "      <td>0</td>\n",
       "    </tr>\n",
       "  </tbody>\n",
       "</table>\n",
       "</div>"
      ],
      "text/plain": [
       "   CreditScore  Geography  Gender  Age  Tenure    Balance  NumOfProducts  \\\n",
       "0          619          1       0   42       2       0.00              1   \n",
       "1          608          2       0   41       1   83807.86              1   \n",
       "2          502          1       0   42       8  159660.80              3   \n",
       "3          699          1       0   39       1       0.00              2   \n",
       "4          850          2       0   43       2  125510.82              1   \n",
       "\n",
       "   HasCrCard  IsActiveMember  EstimatedSalary  Exited  \n",
       "0          1               1        101348.88       1  \n",
       "1          0               1        112542.58       0  \n",
       "2          1               0        113931.57       1  \n",
       "3          0               0         93826.63       0  \n",
       "4          1               1         79084.10       0  "
      ]
     },
     "execution_count": 2,
     "metadata": {},
     "output_type": "execute_result"
    }
   ],
   "source": [
    "df = pd.read_csv(\"../data/churn_modelling.csv\")\n",
    "df = df.drop([\"RowNumber\", \"CustomerId\", \"Surname\"], axis=1)\n",
    "df = df.replace(\n",
    "    {\"Geography\" : {\"Germany\" : 0,\n",
    "                    \"France\" : 1,\n",
    "                    \"Spain\" : 2 },\n",
    "     \"Gender\" : {\"Female\" : 0,\n",
    "                 \"Male\" : 1}\n",
    "    }\n",
    ")\n",
    "df.head()"
   ]
  },
  {
   "cell_type": "code",
   "execution_count": 3,
   "id": "22bd35d9-15d8-411d-b3df-f2f442de4698",
   "metadata": {},
   "outputs": [
    {
     "data": {
      "text/html": [
       "<div>\n",
       "<style scoped>\n",
       "    .dataframe tbody tr th:only-of-type {\n",
       "        vertical-align: middle;\n",
       "    }\n",
       "\n",
       "    .dataframe tbody tr th {\n",
       "        vertical-align: top;\n",
       "    }\n",
       "\n",
       "    .dataframe thead th {\n",
       "        text-align: right;\n",
       "    }\n",
       "</style>\n",
       "<table border=\"1\" class=\"dataframe\">\n",
       "  <thead>\n",
       "    <tr style=\"text-align: right;\">\n",
       "      <th></th>\n",
       "      <th>CreditScore</th>\n",
       "      <th>Geography</th>\n",
       "      <th>Gender</th>\n",
       "      <th>Age</th>\n",
       "      <th>Tenure</th>\n",
       "      <th>Balance</th>\n",
       "      <th>NumOfProducts</th>\n",
       "      <th>HasCrCard</th>\n",
       "      <th>IsActiveMember</th>\n",
       "      <th>EstimatedSalary</th>\n",
       "    </tr>\n",
       "  </thead>\n",
       "  <tbody>\n",
       "    <tr>\n",
       "      <th>2610</th>\n",
       "      <td>682</td>\n",
       "      <td>1</td>\n",
       "      <td>1</td>\n",
       "      <td>38</td>\n",
       "      <td>4</td>\n",
       "      <td>107192.38</td>\n",
       "      <td>1</td>\n",
       "      <td>1</td>\n",
       "      <td>1</td>\n",
       "      <td>15669.17</td>\n",
       "    </tr>\n",
       "    <tr>\n",
       "      <th>5244</th>\n",
       "      <td>672</td>\n",
       "      <td>2</td>\n",
       "      <td>1</td>\n",
       "      <td>43</td>\n",
       "      <td>5</td>\n",
       "      <td>0.00</td>\n",
       "      <td>2</td>\n",
       "      <td>1</td>\n",
       "      <td>1</td>\n",
       "      <td>64515.50</td>\n",
       "    </tr>\n",
       "    <tr>\n",
       "      <th>1113</th>\n",
       "      <td>731</td>\n",
       "      <td>0</td>\n",
       "      <td>0</td>\n",
       "      <td>21</td>\n",
       "      <td>8</td>\n",
       "      <td>132312.06</td>\n",
       "      <td>1</td>\n",
       "      <td>1</td>\n",
       "      <td>0</td>\n",
       "      <td>106663.46</td>\n",
       "    </tr>\n",
       "    <tr>\n",
       "      <th>637</th>\n",
       "      <td>682</td>\n",
       "      <td>1</td>\n",
       "      <td>1</td>\n",
       "      <td>48</td>\n",
       "      <td>1</td>\n",
       "      <td>138778.15</td>\n",
       "      <td>1</td>\n",
       "      <td>0</td>\n",
       "      <td>1</td>\n",
       "      <td>168840.23</td>\n",
       "    </tr>\n",
       "    <tr>\n",
       "      <th>1830</th>\n",
       "      <td>506</td>\n",
       "      <td>1</td>\n",
       "      <td>1</td>\n",
       "      <td>37</td>\n",
       "      <td>5</td>\n",
       "      <td>0.00</td>\n",
       "      <td>2</td>\n",
       "      <td>1</td>\n",
       "      <td>1</td>\n",
       "      <td>127543.81</td>\n",
       "    </tr>\n",
       "  </tbody>\n",
       "</table>\n",
       "</div>"
      ],
      "text/plain": [
       "      CreditScore  Geography  Gender  Age  Tenure    Balance  NumOfProducts  \\\n",
       "2610          682          1       1   38       4  107192.38              1   \n",
       "5244          672          2       1   43       5       0.00              2   \n",
       "1113          731          0       0   21       8  132312.06              1   \n",
       "637           682          1       1   48       1  138778.15              1   \n",
       "1830          506          1       1   37       5       0.00              2   \n",
       "\n",
       "      HasCrCard  IsActiveMember  EstimatedSalary  \n",
       "2610          1               1         15669.17  \n",
       "5244          1               1         64515.50  \n",
       "1113          1               0        106663.46  \n",
       "637           0               1        168840.23  \n",
       "1830          1               1        127543.81  "
      ]
     },
     "execution_count": 3,
     "metadata": {},
     "output_type": "execute_result"
    }
   ],
   "source": [
    "X = df.drop([\"Exited\"], axis=1)\n",
    "y = df[\"Exited\"]\n",
    "X_train, X_test, y_train, y_test = train_test_split(X,y,test_size=0.3)\n",
    "\n",
    "X_test.head()"
   ]
  },
  {
   "cell_type": "code",
   "execution_count": 4,
   "id": "ca54226a-3520-42bf-872b-0d2ea6780d61",
   "metadata": {},
   "outputs": [],
   "source": [
    "## Support Vector Classifier"
   ]
  },
  {
   "cell_type": "code",
   "execution_count": 5,
   "id": "19eeb2cf-c75e-4562-bf36-c2812dfe098a",
   "metadata": {},
   "outputs": [],
   "source": [
    "svc_clf = SVC(kernel=\"sigmoid\")\n",
    "svc_clf.fit(X_train,y_train)\n",
    "y_pred_clf= svc_clf.predict(X_test)"
   ]
  },
  {
   "cell_type": "code",
   "execution_count": 6,
   "id": "8edae283-256b-4c9c-a339-27846d5e63eb",
   "metadata": {},
   "outputs": [
    {
     "name": "stdout",
     "output_type": "stream",
     "text": [
      "[[1882  490]\n",
      " [ 487  141]]\n",
      "F1=0.22398729150119143\n",
      "Precision=0.22345483359746435\n",
      "Recall=0.22452229299363058\n"
     ]
    }
   ],
   "source": [
    "print(confusion_matrix(y_test, y_pred_clf))\n",
    "print(\"F1=\"+str(f1_score(y_test, y_pred_clf)))\n",
    "print(\"Precision=\"+str(precision_score(y_test, y_pred_clf)))\n",
    "print(\"Recall=\"+str(recall_score(y_test, y_pred_clf)))"
   ]
  },
  {
   "cell_type": "code",
   "execution_count": 7,
   "id": "4369cce7-9198-4135-816e-3e265f9a37c0",
   "metadata": {},
   "outputs": [],
   "source": [
    "## Decision Tree Classifier"
   ]
  },
  {
   "cell_type": "code",
   "execution_count": 8,
   "id": "8c9f10a6-f6e1-45b7-9c0c-7681911c0396",
   "metadata": {},
   "outputs": [],
   "source": [
    "dtc = DecisionTreeClassifier(max_depth=2)\n",
    "dtc.fit(X_train,y_train)\n",
    "y_pred_dtc = dtc.predict(X_test)"
   ]
  },
  {
   "cell_type": "code",
   "execution_count": 9,
   "id": "8663dbe6-ebc9-492f-86b3-06e31cfa174d",
   "metadata": {},
   "outputs": [
    {
     "name": "stdout",
     "output_type": "stream",
     "text": [
      "[[2195  177]\n",
      " [ 342  286]]\n",
      "F1=0.5242896425297892\n",
      "Precision=0.6177105831533477\n",
      "Recall=0.4554140127388535\n"
     ]
    }
   ],
   "source": [
    "print(confusion_matrix(y_test, y_pred_dtc))\n",
    "print(\"F1=\"+str(f1_score(y_test, y_pred_dtc)))\n",
    "print(\"Precision=\"+str(precision_score(y_test, y_pred_dtc)))\n",
    "print(\"Recall=\"+str(recall_score(y_test, y_pred_dtc)))"
   ]
  },
  {
   "cell_type": "code",
   "execution_count": 10,
   "id": "fe508894-13ad-4ee9-a38e-735f9bb1ebee",
   "metadata": {},
   "outputs": [],
   "source": [
    "## KNeighbors Classifier"
   ]
  },
  {
   "cell_type": "code",
   "execution_count": 11,
   "id": "b7ee679e-5f38-4b7d-94f2-1f7f4a1171c1",
   "metadata": {},
   "outputs": [],
   "source": [
    "neigh = KNeighborsClassifier(n_neighbors=5)\n",
    "neigh.fit(X_train,y_train)\n",
    "y_pred_neigh = neigh.predict(X_test)"
   ]
  },
  {
   "cell_type": "code",
   "execution_count": 12,
   "id": "e1a08206-de7c-4c68-97f0-9ab989014a58",
   "metadata": {},
   "outputs": [
    {
     "name": "stdout",
     "output_type": "stream",
     "text": [
      "[[2239  133]\n",
      " [ 579   49]]\n",
      "F1=0.12098765432098765\n",
      "Precision=0.2692307692307692\n",
      "Recall=0.07802547770700637\n"
     ]
    }
   ],
   "source": [
    "print(confusion_matrix(y_test, y_pred_neigh))\n",
    "print(\"F1=\"+str(f1_score(y_test, y_pred_neigh)))\n",
    "print(\"Precision=\"+str(precision_score(y_test, y_pred_neigh)))\n",
    "print(\"Recall=\"+str(recall_score(y_test, y_pred_neigh)))"
   ]
  },
  {
   "cell_type": "code",
   "execution_count": 13,
   "id": "bf1501ae-13eb-4457-8f60-250ffd78a481",
   "metadata": {},
   "outputs": [],
   "source": [
    "## Logistic Regression"
   ]
  },
  {
   "cell_type": "code",
   "execution_count": 14,
   "id": "a3573ecb-0813-412c-9dda-6752f227c747",
   "metadata": {},
   "outputs": [],
   "source": [
    "lgc = LogisticRegression()\n",
    "lgc.fit(X_train,y_train)\n",
    "y_pred_lgc = lgc.predict(X_test)"
   ]
  },
  {
   "cell_type": "code",
   "execution_count": 15,
   "id": "383627d0-d64d-42a4-8e0c-00c70d78b8ad",
   "metadata": {},
   "outputs": [
    {
     "name": "stdout",
     "output_type": "stream",
     "text": [
      "[[2323   49]\n",
      " [ 592   36]]\n",
      "F1=0.10098176718092566\n",
      "Precision=0.4235294117647059\n",
      "Recall=0.05732484076433121\n"
     ]
    }
   ],
   "source": [
    "print(confusion_matrix(y_test, y_pred_lgc))\n",
    "print(\"F1=\"+str(f1_score(y_test, y_pred_lgc)))\n",
    "print(\"Precision=\"+str(precision_score(y_test, y_pred_lgc)))\n",
    "print(\"Recall=\"+str(recall_score(y_test, y_pred_lgc)))"
   ]
  },
  {
   "cell_type": "code",
   "execution_count": 16,
   "id": "56fb37bb-475e-43c9-baf6-ab0f0867d5a0",
   "metadata": {},
   "outputs": [],
   "source": [
    "voting_clf = VotingClassifier(estimators=[(\"svc\", svc_clf), (\"dtc\", dtc), (\"lgc\", lgc)])\n",
    "voting_clf.fit(X_train,y_train)\n",
    "y_pred_voting = voting_clf.predict(X_test)"
   ]
  },
  {
   "cell_type": "code",
   "execution_count": 17,
   "id": "6a6afcb0-4350-4966-bf39-6d5e5e2d587b",
   "metadata": {},
   "outputs": [
    {
     "name": "stdout",
     "output_type": "stream",
     "text": [
      "[[2317   55]\n",
      " [ 541   87]]\n",
      "F1=0.22597402597402597\n",
      "Precision=0.6126760563380281\n",
      "Recall=0.13853503184713375\n"
     ]
    }
   ],
   "source": [
    "print(confusion_matrix(y_test, y_pred_voting))\n",
    "print(\"F1=\"+str(f1_score(y_test, y_pred_voting)))\n",
    "print(\"Precision=\"+str(precision_score(y_test, y_pred_voting)))\n",
    "print(\"Recall=\"+str(recall_score(y_test, y_pred_voting)))"
   ]
  },
  {
   "cell_type": "code",
   "execution_count": 18,
   "id": "baa9fb3e-13a9-4472-b94c-d73755b05e93",
   "metadata": {},
   "outputs": [],
   "source": [
    "## Random Forest Classifier"
   ]
  },
  {
   "cell_type": "code",
   "execution_count": 62,
   "id": "cd437cc9-d2e8-4669-a3ad-f6d57cea4cfb",
   "metadata": {},
   "outputs": [
    {
     "name": "stderr",
     "output_type": "stream",
     "text": [
      "C:\\Users\\timwa\\AppData\\Local\\Temp/ipykernel_4164/2696196682.py:4: SettingWithCopyWarning: \n",
      "A value is trying to be set on a copy of a slice from a DataFrame.\n",
      "Try using .loc[row_indexer,col_indexer] = value instead\n",
      "\n",
      "See the caveats in the documentation: https://pandas.pydata.org/pandas-docs/stable/user_guide/indexing.html#returning-a-view-versus-a-copy\n",
      "  X_test[\"y_pred\"] = y_pred_rfc\n"
     ]
    }
   ],
   "source": [
    "rfc = RandomForestClassifier(random_state=10)\n",
    "rfc.fit(X_train,y_train)\n",
    "y_pred_rfc = rfc.predict(X_test)"
   ]
  },
  {
   "cell_type": "code",
   "execution_count": 58,
   "id": "e15f282e-85cb-48ee-b9c9-6cfa6eca7cbb",
   "metadata": {},
   "outputs": [
    {
     "name": "stdout",
     "output_type": "stream",
     "text": [
      "[[2270  102]\n",
      " [ 327  301]]\n",
      "F1=0.5838991270611058\n",
      "Precision=0.7468982630272953\n",
      "Recall=0.47929936305732485\n"
     ]
    }
   ],
   "source": [
    "print(confusion_matrix(y_test, y_pred_rfc))\n",
    "print(\"F1=\"+str(f1_score(y_test, y_pred_rfc)))\n",
    "print(\"Precision=\"+str(precision_score(y_test, y_pred_rfc)))\n",
    "print(\"Recall=\"+str(recall_score(y_test, y_pred_rfc)))"
   ]
  },
  {
   "cell_type": "code",
   "execution_count": 21,
   "id": "225641a1-2d67-435c-be13-8defbe80e2e7",
   "metadata": {},
   "outputs": [],
   "source": [
    "## Multilayer Perceptron"
   ]
  },
  {
   "cell_type": "code",
   "execution_count": 22,
   "id": "2ffec538-ac5b-40b0-a7ea-ef09ab0e217d",
   "metadata": {},
   "outputs": [],
   "source": [
    "sc=StandardScaler()\n",
    "scaler = sc.fit(X_train)\n",
    "X_train_scaled = scaler.transform(X_train)\n",
    "X_test_scaled = scaler.transform(X_test)"
   ]
  },
  {
   "cell_type": "code",
   "execution_count": 23,
   "id": "a34bd56f-9b7a-49eb-ade8-db8e979f9705",
   "metadata": {},
   "outputs": [],
   "source": [
    "mlp_tuning = MLPClassifier()\n",
    "parameter_space = { \n",
    "    \"hidden_layer_sizes\": [(150,100,50), (120,80,40), (100,50,30)],\n",
    "    \"max_iter\": [100, 150, 200, 250, 300],\n",
    "    \"activation\": [\"tanh\", \"relu\"], \n",
    "    \"solver\": [\"sgd\", \"adam\"], \n",
    "    \"alpha\": [0.0001, 0.05], \n",
    "    \"learning_rate\": [\"constant\", \"invscaling\", \"adaptive\"], \n",
    "}\n",
    "#clf = GridSearchCV (mlp_tuning, parameter_space, n_jobs=-1, cv=5) \n",
    "#clf.fit(X_train_scaled,y_train)\n",
    "#print(clf.best_params_)"
   ]
  },
  {
   "cell_type": "code",
   "execution_count": 24,
   "id": "de252e22-fe87-4226-9647-8cbe3e602d3f",
   "metadata": {},
   "outputs": [],
   "source": [
    "mlp = MLPClassifier(max_iter=300, activation=\"tanh\", alpha=0.05, hidden_layer_sizes=(20,), learning_rate=\"invscaling\", solver=\"adam\")\n",
    "mlp.fit(X_train,y_train)\n",
    "y_pred_mlp = mlp.predict(X_test_scaled)"
   ]
  },
  {
   "cell_type": "code",
   "execution_count": 25,
   "id": "85cc02db-31ce-458d-a572-17a9e1bf3798",
   "metadata": {},
   "outputs": [
    {
     "name": "stdout",
     "output_type": "stream",
     "text": [
      "[[2372    0]\n",
      " [ 628    0]]\n",
      "F1=0.0\n",
      "Precision=0.0\n",
      "Recall=0.0\n"
     ]
    },
    {
     "name": "stderr",
     "output_type": "stream",
     "text": [
      "c:\\users\\timwa\\appdata\\local\\programs\\python\\python39\\lib\\site-packages\\sklearn\\metrics\\_classification.py:1248: UndefinedMetricWarning: Precision is ill-defined and being set to 0.0 due to no predicted samples. Use `zero_division` parameter to control this behavior.\n",
      "  _warn_prf(average, modifier, msg_start, len(result))\n"
     ]
    }
   ],
   "source": [
    "print(confusion_matrix(y_test, y_pred_mlp))\n",
    "print(\"F1=\"+str(f1_score(y_test, y_pred_mlp)))\n",
    "print(\"Precision=\"+str(precision_score(y_test, y_pred_mlp)))\n",
    "print(\"Recall=\"+str(recall_score(y_test, y_pred_mlp)))"
   ]
  },
  {
   "cell_type": "code",
   "execution_count": null,
   "id": "66ea5bb9-3a5b-4070-8389-d7c7543c9bac",
   "metadata": {},
   "outputs": [],
   "source": []
  }
 ],
 "metadata": {
  "kernelspec": {
   "display_name": "Python 3 (ipykernel)",
   "language": "python",
   "name": "python3"
  },
  "language_info": {
   "codemirror_mode": {
    "name": "ipython",
    "version": 3
   },
   "file_extension": ".py",
   "mimetype": "text/x-python",
   "name": "python",
   "nbconvert_exporter": "python",
   "pygments_lexer": "ipython3",
   "version": "3.9.5"
  }
 },
 "nbformat": 4,
 "nbformat_minor": 5
}
